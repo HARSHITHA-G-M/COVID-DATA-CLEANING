{
 "cells": [
  {
   "cell_type": "code",
   "execution_count": 3,
   "id": "8f46a53d",
   "metadata": {},
   "outputs": [
    {
     "name": "stderr",
     "output_type": "stream",
     "text": [
      "C:\\Users\\RAKSHITHA\\anaconda3\\lib\\site-packages\\pandas\\core\\arrays\\masked.py:60: UserWarning: Pandas requires version '1.3.6' or newer of 'bottleneck' (version '1.3.5' currently installed).\n",
      "  from pandas.core import (\n"
     ]
    }
   ],
   "source": [
    "import pandas as pd\n",
    "import numpy as np\n",
    "import matplotlib.pyplot as plt"
   ]
  },
  {
   "cell_type": "code",
   "execution_count": 22,
   "id": "e68ffda6",
   "metadata": {},
   "outputs": [],
   "source": [
    "data=pd.read_csv(\"Covid_Data.csv\")"
   ]
  },
  {
   "cell_type": "code",
   "execution_count": 23,
   "id": "9c124a1b",
   "metadata": {},
   "outputs": [
    {
     "data": {
      "text/html": [
       "<div>\n",
       "<style scoped>\n",
       "    .dataframe tbody tr th:only-of-type {\n",
       "        vertical-align: middle;\n",
       "    }\n",
       "\n",
       "    .dataframe tbody tr th {\n",
       "        vertical-align: top;\n",
       "    }\n",
       "\n",
       "    .dataframe thead th {\n",
       "        text-align: right;\n",
       "    }\n",
       "</style>\n",
       "<table border=\"1\" class=\"dataframe\">\n",
       "  <thead>\n",
       "    <tr style=\"text-align: right;\">\n",
       "      <th></th>\n",
       "      <th>age</th>\n",
       "      <th>body_temperature</th>\n",
       "      <th>chronic_disease</th>\n",
       "      <th>breathing_issue</th>\n",
       "      <th>Blood O2 Level in Percentage</th>\n",
       "      <th>Needed Hospitalization</th>\n",
       "    </tr>\n",
       "  </thead>\n",
       "  <tbody>\n",
       "    <tr>\n",
       "      <th>0</th>\n",
       "      <td>10.0</td>\n",
       "      <td>Normal</td>\n",
       "      <td>no</td>\n",
       "      <td>no</td>\n",
       "      <td>97.0</td>\n",
       "      <td>No</td>\n",
       "    </tr>\n",
       "    <tr>\n",
       "      <th>1</th>\n",
       "      <td>12.0</td>\n",
       "      <td>Normal</td>\n",
       "      <td>no</td>\n",
       "      <td>no</td>\n",
       "      <td>97.0</td>\n",
       "      <td>No</td>\n",
       "    </tr>\n",
       "    <tr>\n",
       "      <th>2</th>\n",
       "      <td>15.0</td>\n",
       "      <td>Normal</td>\n",
       "      <td>no</td>\n",
       "      <td>no</td>\n",
       "      <td>94.0</td>\n",
       "      <td>No</td>\n",
       "    </tr>\n",
       "    <tr>\n",
       "      <th>3</th>\n",
       "      <td>10.0</td>\n",
       "      <td>Normal</td>\n",
       "      <td>no</td>\n",
       "      <td>no</td>\n",
       "      <td>97.0</td>\n",
       "      <td>No</td>\n",
       "    </tr>\n",
       "    <tr>\n",
       "      <th>4</th>\n",
       "      <td>13.0</td>\n",
       "      <td>Moderate</td>\n",
       "      <td>no</td>\n",
       "      <td>no</td>\n",
       "      <td>94.0</td>\n",
       "      <td>No</td>\n",
       "    </tr>\n",
       "    <tr>\n",
       "      <th>...</th>\n",
       "      <td>...</td>\n",
       "      <td>...</td>\n",
       "      <td>...</td>\n",
       "      <td>...</td>\n",
       "      <td>...</td>\n",
       "      <td>...</td>\n",
       "    </tr>\n",
       "    <tr>\n",
       "      <th>65</th>\n",
       "      <td>86.0</td>\n",
       "      <td>High</td>\n",
       "      <td>no</td>\n",
       "      <td>yes</td>\n",
       "      <td>76.0</td>\n",
       "      <td>Yes</td>\n",
       "    </tr>\n",
       "    <tr>\n",
       "      <th>66</th>\n",
       "      <td>61.0</td>\n",
       "      <td>Moderate</td>\n",
       "      <td>no</td>\n",
       "      <td>yes</td>\n",
       "      <td>90.0</td>\n",
       "      <td>No</td>\n",
       "    </tr>\n",
       "    <tr>\n",
       "      <th>67</th>\n",
       "      <td>94.0</td>\n",
       "      <td>High</td>\n",
       "      <td>yes</td>\n",
       "      <td>yes</td>\n",
       "      <td>64.0</td>\n",
       "      <td>Yes</td>\n",
       "    </tr>\n",
       "    <tr>\n",
       "      <th>68</th>\n",
       "      <td>81.0</td>\n",
       "      <td>High</td>\n",
       "      <td>yes</td>\n",
       "      <td>yes</td>\n",
       "      <td>75.0</td>\n",
       "      <td>Yes</td>\n",
       "    </tr>\n",
       "    <tr>\n",
       "      <th>69</th>\n",
       "      <td>76.0</td>\n",
       "      <td>High</td>\n",
       "      <td>yes</td>\n",
       "      <td>yes</td>\n",
       "      <td>80.0</td>\n",
       "      <td>Yes</td>\n",
       "    </tr>\n",
       "  </tbody>\n",
       "</table>\n",
       "<p>70 rows × 6 columns</p>\n",
       "</div>"
      ],
      "text/plain": [
       "     age body_temperature chronic_disease breathing_issue  \\\n",
       "0   10.0           Normal              no              no   \n",
       "1   12.0           Normal              no              no   \n",
       "2   15.0           Normal              no              no   \n",
       "3   10.0           Normal              no              no   \n",
       "4   13.0         Moderate              no              no   \n",
       "..   ...              ...             ...             ...   \n",
       "65  86.0             High              no             yes   \n",
       "66  61.0         Moderate              no             yes   \n",
       "67  94.0             High             yes             yes   \n",
       "68  81.0             High             yes             yes   \n",
       "69  76.0             High             yes             yes   \n",
       "\n",
       "    Blood O2 Level in Percentage Needed Hospitalization  \n",
       "0                           97.0                     No  \n",
       "1                           97.0                     No  \n",
       "2                           94.0                     No  \n",
       "3                           97.0                     No  \n",
       "4                           94.0                     No  \n",
       "..                           ...                    ...  \n",
       "65                          76.0                    Yes  \n",
       "66                          90.0                     No  \n",
       "67                          64.0                    Yes  \n",
       "68                          75.0                    Yes  \n",
       "69                          80.0                    Yes  \n",
       "\n",
       "[70 rows x 6 columns]"
      ]
     },
     "execution_count": 23,
     "metadata": {},
     "output_type": "execute_result"
    }
   ],
   "source": [
    "data"
   ]
  },
  {
   "cell_type": "code",
   "execution_count": 30,
   "id": "4b352bdb",
   "metadata": {},
   "outputs": [],
   "source": [
    "X=data.iloc[:,:-1].values\n",
    "Y=data.iloc[:,-1].values"
   ]
  },
  {
   "cell_type": "code",
   "execution_count": 31,
   "id": "c1ddc99c",
   "metadata": {},
   "outputs": [
    {
     "name": "stdout",
     "output_type": "stream",
     "text": [
      "[[10.0 'Normal' 'no' 'no' 97.0]\n",
      " [12.0 'Normal' 'no' 'no' 97.0]\n",
      " [15.0 'Normal' 'no' 'no' 94.0]\n",
      " [10.0 'Normal' 'no' 'no' 97.0]\n",
      " [13.0 'Moderate' 'no' 'no' 94.0]\n",
      " [12.0 'Moderate' 'no' 'no' 97.0]\n",
      " [13.0 'Moderate' 'no' 'no' 93.0]\n",
      " [15.0 'Moderate' 'no' 'no' 92.0]\n",
      " [18.0 'Moderate' 'no' 'no' 66.0]\n",
      " [19.0 'Normal' 'no' 'no' 92.0]\n",
      " [20.0 'Normal' 'no' 'no' 93.0]\n",
      " [17.0 'Normal' 'no' 'no' 93.0]\n",
      " [16.0 'Normal' 'no' 'no' 92.0]\n",
      " [18.0 'Normal' 'no' 'no' 93.0]\n",
      " [20.0 'Normal' 'no' 'no' 92.0]\n",
      " [25.0 'Moderate' 'no' 'no' 93.0]\n",
      " [24.0 'Moderate' 'no' 'no' 92.0]\n",
      " [26.0 'High' 'no' 'no' 94.0]\n",
      " [28.0 'Normal' 'no' 'no' 99.0]\n",
      " [29.0 'Normal' 'no' 'no' 93.0]\n",
      " [30.0 'Moderate' 'no' 'no' 62.0]\n",
      " [19.0 'Normal' 'no' 'no' 89.0]\n",
      " [25.0 'Normal' 'no' 'yes' 86.0]\n",
      " [26.0 'Normal' 'no' 'no' nan]\n",
      " [28.0 'Normal' 'no' 'no' 89.0]\n",
      " [30.0 'Moderate' 'yes' 'no' 86.0]\n",
      " [35.0 'Moderate' 'no' 'no' 89.0]\n",
      " [32.0 'Moderate' 'no' 'yes' 84.0]\n",
      " [nan 'Moderate' 'yes' 'no' 90.0]\n",
      " [32.0 'Moderate' 'no' 'no' 89.0]\n",
      " [35.0 'Moderate' 'no' 'yes' 92.0]\n",
      " [38.0 'High' 'no' 'no' 75.0]\n",
      " [40.0 'Moderate' 'no' 'yes' 90.0]\n",
      " [46.0 'High' 'yes' 'no' 91.0]\n",
      " [48.0 'Moderate' 'no' 'yes' 93.0]\n",
      " [42.0 'High' 'no' 'no' 92.0]\n",
      " [40.0 'High' 'no' 'no' 92.0]\n",
      " [49.0 'Moderate' 'no' 'no' 80.0]\n",
      " [50.0 'High' 'yes' 'yes' 77.0]\n",
      " [36.0 'High' 'yes' 'no' 90.0]\n",
      " [52.0 'High' 'yes' 'yes' 80.0]\n",
      " [56.0 'High' 'yes' 'yes' 77.0]\n",
      " [58.0 'High' 'no' 'no' 70.0]\n",
      " [59.0 'High' 'no' 'yes' 69.0]\n",
      " [60.0 'High' 'yes' 'yes' 68.0]\n",
      " [53.0 'High' 'yes' 'no' 55.0]\n",
      " [54.0 'High' 'yes' 'yes' 70.0]\n",
      " [62.0 'High' 'yes' 'yes' 68.0]\n",
      " [63.0 'High' 'yes' 'yes' 66.0]\n",
      " [68.0 'High' 'yes' 'no' 67.0]\n",
      " [69.0 'High' 'no' 'yes' 53.0]\n",
      " [64.0 'High' 'yes' 'yes' 73.0]\n",
      " [61.0 'High' 'yes' 'yes' 76.0]\n",
      " [70.0 'Normal' 'no' 'yes' 88.0]\n",
      " [59.0 'High' 'yes' 'no' 68.0]\n",
      " [62.0 'High' 'yes' 'yes' 69.0]\n",
      " [78.0 'High' 'yes' 'yes' 71.0]\n",
      " [74.0 'High' 'yes' 'yes' 75.0]\n",
      " [75.0 'High' 'no' 'yes' 72.0]\n",
      " [56.0 'High' 'yes' 'no' 76.0]\n",
      " [80.0 'High' 'no' 'yes' 92.0]\n",
      " [82.0 'High' 'yes' 'yes' 73.0]\n",
      " [86.0 'High' 'yes' 'yes' 71.0]\n",
      " [90.0 'High' 'yes' 'yes' 67.0]\n",
      " [84.0 'High' 'yes' 'yes' 75.0]\n",
      " [86.0 'High' 'no' 'yes' 76.0]\n",
      " [61.0 'Moderate' 'no' 'yes' 90.0]\n",
      " [94.0 'High' 'yes' 'yes' 64.0]\n",
      " [81.0 'High' 'yes' 'yes' 75.0]\n",
      " [76.0 'High' 'yes' 'yes' 80.0]]\n"
     ]
    }
   ],
   "source": [
    "print(X)"
   ]
  },
  {
   "cell_type": "code",
   "execution_count": 32,
   "id": "874c7c3f",
   "metadata": {},
   "outputs": [
    {
     "name": "stdout",
     "output_type": "stream",
     "text": [
      "['No' 'No' 'No' 'No' 'No' 'No' 'No' 'No' 'Yes' 'No' 'No' 'No' 'No' 'No'\n",
      " 'No' 'No' 'No' 'No' 'No' 'No' 'Yes' 'No' 'No' 'No' 'No' 'No' 'No' 'No'\n",
      " 'No' 'No' 'No' 'Yes' 'No' 'No' 'No' 'No' 'No' 'Yes' 'Yes' 'No' 'Yes'\n",
      " 'Yes' 'Yes' 'Yes' 'Yes' 'Yes' 'Yes' 'Yes' 'Yes' 'Yes' 'Yes' 'Yes' 'Yes'\n",
      " 'No' 'Yes' 'Yes' 'Yes' 'Yes' 'Yes' 'Yes' 'No' 'Yes' 'Yes' 'Yes' 'Yes'\n",
      " 'Yes' 'No' 'Yes' 'Yes' 'Yes']\n"
     ]
    }
   ],
   "source": [
    "print(Y)"
   ]
  },
  {
   "cell_type": "code",
   "execution_count": 46,
   "id": "377a9d84",
   "metadata": {},
   "outputs": [],
   "source": [
    "from sklearn.impute import SimpleImputer\n",
    "imputer=SimpleImputer(missing_values=np.nan,strategy='mean')\n",
    "imputer.fit(X[:,0:5:4])\n",
    "X[:,0:5:4]=imputer.transform(X[:,0:5:4])"
   ]
  },
  {
   "cell_type": "code",
   "execution_count": 47,
   "id": "d7a255e6",
   "metadata": {},
   "outputs": [
    {
     "name": "stdout",
     "output_type": "stream",
     "text": [
      "[[10.0 'Normal' 'no' 'no' 97.0]\n",
      " [12.0 'Normal' 'no' 'no' 97.0]\n",
      " [15.0 'Normal' 'no' 'no' 94.0]\n",
      " [10.0 'Normal' 'no' 'no' 97.0]\n",
      " [13.0 'Moderate' 'no' 'no' 94.0]\n",
      " [12.0 'Moderate' 'no' 'no' 97.0]\n",
      " [13.0 'Moderate' 'no' 'no' 93.0]\n",
      " [15.0 'Moderate' 'no' 'no' 92.0]\n",
      " [18.0 'Moderate' 'no' 'no' 66.0]\n",
      " [19.0 'Normal' 'no' 'no' 92.0]\n",
      " [20.0 'Normal' 'no' 'no' 93.0]\n",
      " [17.0 'Normal' 'no' 'no' 93.0]\n",
      " [16.0 'Normal' 'no' 'no' 92.0]\n",
      " [18.0 'Normal' 'no' 'no' 93.0]\n",
      " [20.0 'Normal' 'no' 'no' 92.0]\n",
      " [25.0 'Moderate' 'no' 'no' 93.0]\n",
      " [24.0 'Moderate' 'no' 'no' 92.0]\n",
      " [26.0 'High' 'no' 'no' 94.0]\n",
      " [28.0 'Normal' 'no' 'no' 99.0]\n",
      " [29.0 'Normal' 'no' 'no' 93.0]\n",
      " [30.0 'Moderate' 'no' 'no' 62.0]\n",
      " [19.0 'Normal' 'no' 'no' 89.0]\n",
      " [25.0 'Normal' 'no' 'yes' 86.0]\n",
      " [26.0 'Normal' 'no' 'no' 82.07246376811594]\n",
      " [28.0 'Normal' 'no' 'no' 89.0]\n",
      " [30.0 'Moderate' 'yes' 'no' 86.0]\n",
      " [35.0 'Moderate' 'no' 'no' 89.0]\n",
      " [32.0 'Moderate' 'no' 'yes' 84.0]\n",
      " [45.130434782608695 'Moderate' 'yes' 'no' 90.0]\n",
      " [32.0 'Moderate' 'no' 'no' 89.0]\n",
      " [35.0 'Moderate' 'no' 'yes' 92.0]\n",
      " [38.0 'High' 'no' 'no' 75.0]\n",
      " [40.0 'Moderate' 'no' 'yes' 90.0]\n",
      " [46.0 'High' 'yes' 'no' 91.0]\n",
      " [48.0 'Moderate' 'no' 'yes' 93.0]\n",
      " [42.0 'High' 'no' 'no' 92.0]\n",
      " [40.0 'High' 'no' 'no' 92.0]\n",
      " [49.0 'Moderate' 'no' 'no' 80.0]\n",
      " [50.0 'High' 'yes' 'yes' 77.0]\n",
      " [36.0 'High' 'yes' 'no' 90.0]\n",
      " [52.0 'High' 'yes' 'yes' 80.0]\n",
      " [56.0 'High' 'yes' 'yes' 77.0]\n",
      " [58.0 'High' 'no' 'no' 70.0]\n",
      " [59.0 'High' 'no' 'yes' 69.0]\n",
      " [60.0 'High' 'yes' 'yes' 68.0]\n",
      " [53.0 'High' 'yes' 'no' 55.0]\n",
      " [54.0 'High' 'yes' 'yes' 70.0]\n",
      " [62.0 'High' 'yes' 'yes' 68.0]\n",
      " [63.0 'High' 'yes' 'yes' 66.0]\n",
      " [68.0 'High' 'yes' 'no' 67.0]\n",
      " [69.0 'High' 'no' 'yes' 53.0]\n",
      " [64.0 'High' 'yes' 'yes' 73.0]\n",
      " [61.0 'High' 'yes' 'yes' 76.0]\n",
      " [70.0 'Normal' 'no' 'yes' 88.0]\n",
      " [59.0 'High' 'yes' 'no' 68.0]\n",
      " [62.0 'High' 'yes' 'yes' 69.0]\n",
      " [78.0 'High' 'yes' 'yes' 71.0]\n",
      " [74.0 'High' 'yes' 'yes' 75.0]\n",
      " [75.0 'High' 'no' 'yes' 72.0]\n",
      " [56.0 'High' 'yes' 'no' 76.0]\n",
      " [80.0 'High' 'no' 'yes' 92.0]\n",
      " [82.0 'High' 'yes' 'yes' 73.0]\n",
      " [86.0 'High' 'yes' 'yes' 71.0]\n",
      " [90.0 'High' 'yes' 'yes' 67.0]\n",
      " [84.0 'High' 'yes' 'yes' 75.0]\n",
      " [86.0 'High' 'no' 'yes' 76.0]\n",
      " [61.0 'Moderate' 'no' 'yes' 90.0]\n",
      " [94.0 'High' 'yes' 'yes' 64.0]\n",
      " [81.0 'High' 'yes' 'yes' 75.0]\n",
      " [76.0 'High' 'yes' 'yes' 80.0]]\n"
     ]
    }
   ],
   "source": [
    "print(X)"
   ]
  },
  {
   "cell_type": "code",
   "execution_count": 49,
   "id": "ae464842",
   "metadata": {},
   "outputs": [],
   "source": [
    "from sklearn.compose import ColumnTransformer\n",
    "from sklearn.preprocessing import OneHotEncoder\n"
   ]
  },
  {
   "cell_type": "code",
   "execution_count": 51,
   "id": "db711c05",
   "metadata": {},
   "outputs": [],
   "source": [
    "ct=ColumnTransformer(transformers=[('encoder',OneHotEncoder(),[1])],remainder='passthrough')\n",
    "X=np.array(ct.fit_transform(X))"
   ]
  },
  {
   "cell_type": "code",
   "execution_count": 53,
   "id": "4c146c9e",
   "metadata": {},
   "outputs": [
    {
     "name": "stdout",
     "output_type": "stream",
     "text": [
      "[[0.0 0.0 1.0 10.0 'no' 'no' 97.0]\n",
      " [0.0 0.0 1.0 12.0 'no' 'no' 97.0]\n",
      " [0.0 0.0 1.0 15.0 'no' 'no' 94.0]\n",
      " [0.0 0.0 1.0 10.0 'no' 'no' 97.0]\n",
      " [0.0 1.0 0.0 13.0 'no' 'no' 94.0]\n",
      " [0.0 1.0 0.0 12.0 'no' 'no' 97.0]\n",
      " [0.0 1.0 0.0 13.0 'no' 'no' 93.0]\n",
      " [0.0 1.0 0.0 15.0 'no' 'no' 92.0]\n",
      " [0.0 1.0 0.0 18.0 'no' 'no' 66.0]\n",
      " [0.0 0.0 1.0 19.0 'no' 'no' 92.0]\n",
      " [0.0 0.0 1.0 20.0 'no' 'no' 93.0]\n",
      " [0.0 0.0 1.0 17.0 'no' 'no' 93.0]\n",
      " [0.0 0.0 1.0 16.0 'no' 'no' 92.0]\n",
      " [0.0 0.0 1.0 18.0 'no' 'no' 93.0]\n",
      " [0.0 0.0 1.0 20.0 'no' 'no' 92.0]\n",
      " [0.0 1.0 0.0 25.0 'no' 'no' 93.0]\n",
      " [0.0 1.0 0.0 24.0 'no' 'no' 92.0]\n",
      " [1.0 0.0 0.0 26.0 'no' 'no' 94.0]\n",
      " [0.0 0.0 1.0 28.0 'no' 'no' 99.0]\n",
      " [0.0 0.0 1.0 29.0 'no' 'no' 93.0]\n",
      " [0.0 1.0 0.0 30.0 'no' 'no' 62.0]\n",
      " [0.0 0.0 1.0 19.0 'no' 'no' 89.0]\n",
      " [0.0 0.0 1.0 25.0 'no' 'yes' 86.0]\n",
      " [0.0 0.0 1.0 26.0 'no' 'no' 82.07246376811594]\n",
      " [0.0 0.0 1.0 28.0 'no' 'no' 89.0]\n",
      " [0.0 1.0 0.0 30.0 'yes' 'no' 86.0]\n",
      " [0.0 1.0 0.0 35.0 'no' 'no' 89.0]\n",
      " [0.0 1.0 0.0 32.0 'no' 'yes' 84.0]\n",
      " [0.0 1.0 0.0 45.130434782608695 'yes' 'no' 90.0]\n",
      " [0.0 1.0 0.0 32.0 'no' 'no' 89.0]\n",
      " [0.0 1.0 0.0 35.0 'no' 'yes' 92.0]\n",
      " [1.0 0.0 0.0 38.0 'no' 'no' 75.0]\n",
      " [0.0 1.0 0.0 40.0 'no' 'yes' 90.0]\n",
      " [1.0 0.0 0.0 46.0 'yes' 'no' 91.0]\n",
      " [0.0 1.0 0.0 48.0 'no' 'yes' 93.0]\n",
      " [1.0 0.0 0.0 42.0 'no' 'no' 92.0]\n",
      " [1.0 0.0 0.0 40.0 'no' 'no' 92.0]\n",
      " [0.0 1.0 0.0 49.0 'no' 'no' 80.0]\n",
      " [1.0 0.0 0.0 50.0 'yes' 'yes' 77.0]\n",
      " [1.0 0.0 0.0 36.0 'yes' 'no' 90.0]\n",
      " [1.0 0.0 0.0 52.0 'yes' 'yes' 80.0]\n",
      " [1.0 0.0 0.0 56.0 'yes' 'yes' 77.0]\n",
      " [1.0 0.0 0.0 58.0 'no' 'no' 70.0]\n",
      " [1.0 0.0 0.0 59.0 'no' 'yes' 69.0]\n",
      " [1.0 0.0 0.0 60.0 'yes' 'yes' 68.0]\n",
      " [1.0 0.0 0.0 53.0 'yes' 'no' 55.0]\n",
      " [1.0 0.0 0.0 54.0 'yes' 'yes' 70.0]\n",
      " [1.0 0.0 0.0 62.0 'yes' 'yes' 68.0]\n",
      " [1.0 0.0 0.0 63.0 'yes' 'yes' 66.0]\n",
      " [1.0 0.0 0.0 68.0 'yes' 'no' 67.0]\n",
      " [1.0 0.0 0.0 69.0 'no' 'yes' 53.0]\n",
      " [1.0 0.0 0.0 64.0 'yes' 'yes' 73.0]\n",
      " [1.0 0.0 0.0 61.0 'yes' 'yes' 76.0]\n",
      " [0.0 0.0 1.0 70.0 'no' 'yes' 88.0]\n",
      " [1.0 0.0 0.0 59.0 'yes' 'no' 68.0]\n",
      " [1.0 0.0 0.0 62.0 'yes' 'yes' 69.0]\n",
      " [1.0 0.0 0.0 78.0 'yes' 'yes' 71.0]\n",
      " [1.0 0.0 0.0 74.0 'yes' 'yes' 75.0]\n",
      " [1.0 0.0 0.0 75.0 'no' 'yes' 72.0]\n",
      " [1.0 0.0 0.0 56.0 'yes' 'no' 76.0]\n",
      " [1.0 0.0 0.0 80.0 'no' 'yes' 92.0]\n",
      " [1.0 0.0 0.0 82.0 'yes' 'yes' 73.0]\n",
      " [1.0 0.0 0.0 86.0 'yes' 'yes' 71.0]\n",
      " [1.0 0.0 0.0 90.0 'yes' 'yes' 67.0]\n",
      " [1.0 0.0 0.0 84.0 'yes' 'yes' 75.0]\n",
      " [1.0 0.0 0.0 86.0 'no' 'yes' 76.0]\n",
      " [0.0 1.0 0.0 61.0 'no' 'yes' 90.0]\n",
      " [1.0 0.0 0.0 94.0 'yes' 'yes' 64.0]\n",
      " [1.0 0.0 0.0 81.0 'yes' 'yes' 75.0]\n",
      " [1.0 0.0 0.0 76.0 'yes' 'yes' 80.0]]\n"
     ]
    }
   ],
   "source": [
    "print(X)"
   ]
  },
  {
   "cell_type": "code",
   "execution_count": 56,
   "id": "0dc72903",
   "metadata": {},
   "outputs": [],
   "source": [
    "from sklearn.preprocessing import LabelEncoder\n",
    "le=LabelEncoder()\n",
    "Y=le.fit_transform(Y)"
   ]
  },
  {
   "cell_type": "code",
   "execution_count": 57,
   "id": "06b5a922",
   "metadata": {},
   "outputs": [
    {
     "name": "stdout",
     "output_type": "stream",
     "text": [
      "[0 0 0 0 0 0 0 0 1 0 0 0 0 0 0 0 0 0 0 0 1 0 0 0 0 0 0 0 0 0 0 1 0 0 0 0 0\n",
      " 1 1 0 1 1 1 1 1 1 1 1 1 1 1 1 1 0 1 1 1 1 1 1 0 1 1 1 1 1 0 1 1 1]\n"
     ]
    }
   ],
   "source": [
    "print(Y)"
   ]
  },
  {
   "cell_type": "code",
   "execution_count": 72,
   "id": "fa589aba",
   "metadata": {},
   "outputs": [],
   "source": [
    "from sklearn.model_selection import train_test_split\n",
    "X_train,X_test,Y_train,Y_test=train_test_split(X,Y,test_size=0.2,random_state=42)"
   ]
  },
  {
   "cell_type": "code",
   "execution_count": 73,
   "id": "bcba0570",
   "metadata": {},
   "outputs": [
    {
     "name": "stdout",
     "output_type": "stream",
     "text": [
      "[[0.0 0.0 1.0 25.0 'no' 'yes' 86.0]\n",
      " [0.0 0.0 1.0 10.0 'no' 'no' 97.0]\n",
      " [1.0 0.0 0.0 68.0 'yes' 'no' 67.0]\n",
      " [0.0 1.0 0.0 13.0 'no' 'no' 94.0]\n",
      " [1.0 0.0 0.0 59.0 'yes' 'no' 68.0]\n",
      " [0.0 0.0 1.0 28.0 'no' 'no' 99.0]\n",
      " [0.0 0.0 1.0 20.0 'no' 'no' 93.0]\n",
      " [1.0 0.0 0.0 46.0 'yes' 'no' 91.0]\n",
      " [1.0 0.0 0.0 53.0 'yes' 'no' 55.0]\n",
      " [0.0 0.0 1.0 16.0 'no' 'no' 92.0]\n",
      " [1.0 0.0 0.0 38.0 'no' 'no' 75.0]\n",
      " [0.0 0.0 1.0 19.0 'no' 'no' 92.0]\n",
      " [1.0 0.0 0.0 94.0 'yes' 'yes' 64.0]\n",
      " [0.0 1.0 0.0 12.0 'no' 'no' 97.0]]\n"
     ]
    }
   ],
   "source": [
    "print(X_test)"
   ]
  },
  {
   "cell_type": "code",
   "execution_count": 74,
   "id": "9445b5b3",
   "metadata": {},
   "outputs": [
    {
     "name": "stdout",
     "output_type": "stream",
     "text": [
      "[0 0 1 0 1 0 0 0 1 0 1 0 1 0]\n"
     ]
    }
   ],
   "source": [
    "print(Y_test)"
   ]
  },
  {
   "cell_type": "code",
   "execution_count": 75,
   "id": "5367fa22",
   "metadata": {},
   "outputs": [
    {
     "name": "stdout",
     "output_type": "stream",
     "text": [
      "[1 0 1 0 1 1 0 0 1 0 0 0 1 1 1 0 1 0 0 1 0 1 0 0 1 1 0 0 1 1 1 0 0 1 0 1 0\n",
      " 1 1 0 0 0 1 1 0 1 1 0 1 0 0 0 1 0 0 1]\n"
     ]
    }
   ],
   "source": [
    "print(Y_train)"
   ]
  },
  {
   "cell_type": "code",
   "execution_count": 76,
   "id": "73d20edf",
   "metadata": {},
   "outputs": [
    {
     "name": "stdout",
     "output_type": "stream",
     "text": [
      "[[1.0 0.0 0.0 86.0 'yes' 'yes' 71.0]\n",
      " [0.0 1.0 0.0 35.0 'no' 'yes' 92.0]\n",
      " [1.0 0.0 0.0 75.0 'no' 'yes' 72.0]\n",
      " [1.0 0.0 0.0 42.0 'no' 'no' 92.0]\n",
      " [1.0 0.0 0.0 74.0 'yes' 'yes' 75.0]\n",
      " [1.0 0.0 0.0 62.0 'yes' 'yes' 68.0]\n",
      " [0.0 1.0 0.0 24.0 'no' 'no' 92.0]\n",
      " [0.0 1.0 0.0 48.0 'no' 'yes' 93.0]\n",
      " [1.0 0.0 0.0 58.0 'no' 'no' 70.0]\n",
      " [0.0 1.0 0.0 45.130434782608695 'yes' 'no' 90.0]\n",
      " [0.0 1.0 0.0 15.0 'no' 'no' 92.0]\n",
      " [0.0 0.0 1.0 70.0 'no' 'yes' 88.0]\n",
      " [1.0 0.0 0.0 52.0 'yes' 'yes' 80.0]\n",
      " [1.0 0.0 0.0 60.0 'yes' 'yes' 68.0]\n",
      " [1.0 0.0 0.0 54.0 'yes' 'yes' 70.0]\n",
      " [0.0 0.0 1.0 29.0 'no' 'no' 93.0]\n",
      " [1.0 0.0 0.0 78.0 'yes' 'yes' 71.0]\n",
      " [1.0 0.0 0.0 36.0 'yes' 'no' 90.0]\n",
      " [0.0 1.0 0.0 30.0 'yes' 'no' 86.0]\n",
      " [1.0 0.0 0.0 50.0 'yes' 'yes' 77.0]\n",
      " [0.0 0.0 1.0 18.0 'no' 'no' 93.0]\n",
      " [1.0 0.0 0.0 69.0 'no' 'yes' 53.0]\n",
      " [0.0 0.0 1.0 10.0 'no' 'no' 97.0]\n",
      " [1.0 0.0 0.0 26.0 'no' 'no' 94.0]\n",
      " [0.0 1.0 0.0 18.0 'no' 'no' 66.0]\n",
      " [1.0 0.0 0.0 62.0 'yes' 'yes' 69.0]\n",
      " [0.0 1.0 0.0 13.0 'no' 'no' 93.0]\n",
      " [1.0 0.0 0.0 40.0 'no' 'no' 92.0]\n",
      " [1.0 0.0 0.0 84.0 'yes' 'yes' 75.0]\n",
      " [1.0 0.0 0.0 76.0 'yes' 'yes' 80.0]\n",
      " [1.0 0.0 0.0 81.0 'yes' 'yes' 75.0]\n",
      " [0.0 1.0 0.0 25.0 'no' 'no' 93.0]\n",
      " [0.0 1.0 0.0 32.0 'no' 'yes' 84.0]\n",
      " [1.0 0.0 0.0 56.0 'yes' 'yes' 77.0]\n",
      " [0.0 1.0 0.0 35.0 'no' 'no' 89.0]\n",
      " [1.0 0.0 0.0 63.0 'yes' 'yes' 66.0]\n",
      " [0.0 0.0 1.0 28.0 'no' 'no' 89.0]\n",
      " [1.0 0.0 0.0 56.0 'yes' 'no' 76.0]\n",
      " [1.0 0.0 0.0 90.0 'yes' 'yes' 67.0]\n",
      " [0.0 0.0 1.0 17.0 'no' 'no' 93.0]\n",
      " [0.0 1.0 0.0 40.0 'no' 'yes' 90.0]\n",
      " [0.0 1.0 0.0 61.0 'no' 'yes' 90.0]\n",
      " [1.0 0.0 0.0 82.0 'yes' 'yes' 73.0]\n",
      " [0.0 1.0 0.0 49.0 'no' 'no' 80.0]\n",
      " [0.0 1.0 0.0 32.0 'no' 'no' 89.0]\n",
      " [1.0 0.0 0.0 59.0 'no' 'yes' 69.0]\n",
      " [1.0 0.0 0.0 86.0 'no' 'yes' 76.0]\n",
      " [0.0 0.0 1.0 12.0 'no' 'no' 97.0]\n",
      " [1.0 0.0 0.0 61.0 'yes' 'yes' 76.0]\n",
      " [0.0 0.0 1.0 19.0 'no' 'no' 89.0]\n",
      " [0.0 0.0 1.0 15.0 'no' 'no' 94.0]\n",
      " [0.0 0.0 1.0 26.0 'no' 'no' 82.07246376811594]\n",
      " [0.0 1.0 0.0 30.0 'no' 'no' 62.0]\n",
      " [1.0 0.0 0.0 80.0 'no' 'yes' 92.0]\n",
      " [0.0 0.0 1.0 20.0 'no' 'no' 92.0]\n",
      " [1.0 0.0 0.0 64.0 'yes' 'yes' 73.0]]\n"
     ]
    }
   ],
   "source": [
    "print(X_train)"
   ]
  },
  {
   "cell_type": "code",
   "execution_count": 84,
   "id": "0c91e46c",
   "metadata": {},
   "outputs": [],
   "source": [
    "from sklearn.preprocessing import StandardScaler\n",
    "sc=StandardScaler()\n",
    "X_train[:,6:]=sc.fit_transform(X_train[:,6:])\n",
    "X_test[:,6:]=sc.fit_transform(X_test[:,6:])"
   ]
  },
  {
   "cell_type": "code",
   "execution_count": 85,
   "id": "d06d18b7",
   "metadata": {},
   "outputs": [
    {
     "name": "stdout",
     "output_type": "stream",
     "text": [
      "[[1.0 0.0 0.0 86.0 'yes' 'yes' -0.9941858494300263]\n",
      " [0.0 1.0 0.0 35.0 'no' 'yes' 0.9574354145081887]\n",
      " [1.0 0.0 0.0 75.0 'no' 'yes' -0.9012515035282066]\n",
      " [1.0 0.0 0.0 42.0 'no' 'no' 0.9574354145081887]\n",
      " [1.0 0.0 0.0 74.0 'yes' 'yes' -0.6224484658227474]\n",
      " [1.0 0.0 0.0 62.0 'yes' 'yes' -1.2729888871354855]\n",
      " [0.0 1.0 0.0 24.0 'no' 'no' 0.9574354145081887]\n",
      " [0.0 1.0 0.0 48.0 'no' 'yes' 1.0503697604100086]\n",
      " [1.0 0.0 0.0 58.0 'no' 'no' -1.0871201953318461]\n",
      " [0.0 1.0 0.0 45.130434782608695 'yes' 'no' 0.7715667227045492]\n",
      " [0.0 1.0 0.0 15.0 'no' 'no' 0.9574354145081887]\n",
      " [0.0 0.0 1.0 70.0 'no' 'yes' 0.5856980309009097]\n",
      " [1.0 0.0 0.0 52.0 'yes' 'yes' -0.1577767363136485]\n",
      " [1.0 0.0 0.0 60.0 'yes' 'yes' -1.2729888871354855]\n",
      " [1.0 0.0 0.0 54.0 'yes' 'yes' -1.0871201953318461]\n",
      " [0.0 0.0 1.0 29.0 'no' 'no' 1.0503697604100086]\n",
      " [1.0 0.0 0.0 78.0 'yes' 'yes' -0.9941858494300263]\n",
      " [1.0 0.0 0.0 36.0 'yes' 'no' 0.7715667227045492]\n",
      " [0.0 1.0 0.0 30.0 'yes' 'no' 0.3998293390972701]\n",
      " [1.0 0.0 0.0 50.0 'yes' 'yes' -0.4365797740191078]\n",
      " [0.0 0.0 1.0 18.0 'no' 'no' 1.0503697604100086]\n",
      " [1.0 0.0 0.0 69.0 'no' 'yes' -2.667004075662782]\n",
      " [0.0 0.0 1.0 10.0 'no' 'no' 1.4221071440172877]\n",
      " [1.0 0.0 0.0 26.0 'no' 'no' 1.1433041063118283]\n",
      " [0.0 1.0 0.0 18.0 'no' 'no' -1.4588575789391252]\n",
      " [1.0 0.0 0.0 62.0 'yes' 'yes' -1.1800545412336658]\n",
      " [0.0 1.0 0.0 13.0 'no' 'no' 1.0503697604100086]\n",
      " [1.0 0.0 0.0 40.0 'no' 'no' 0.9574354145081887]\n",
      " [1.0 0.0 0.0 84.0 'yes' 'yes' -0.6224484658227474]\n",
      " [1.0 0.0 0.0 76.0 'yes' 'yes' -0.1577767363136485]\n",
      " [1.0 0.0 0.0 81.0 'yes' 'yes' -0.6224484658227474]\n",
      " [0.0 1.0 0.0 25.0 'no' 'no' 1.0503697604100086]\n",
      " [0.0 1.0 0.0 32.0 'no' 'yes' 0.21396064729363057]\n",
      " [1.0 0.0 0.0 56.0 'yes' 'yes' -0.4365797740191078]\n",
      " [0.0 1.0 0.0 35.0 'no' 'no' 0.6786323768027295]\n",
      " [1.0 0.0 0.0 63.0 'yes' 'yes' -1.4588575789391252]\n",
      " [0.0 0.0 1.0 28.0 'no' 'no' 0.6786323768027295]\n",
      " [1.0 0.0 0.0 56.0 'yes' 'no' -0.5295141199209276]\n",
      " [1.0 0.0 0.0 90.0 'yes' 'yes' -1.3659232330373055]\n",
      " [0.0 0.0 1.0 17.0 'no' 'no' 1.0503697604100086]\n",
      " [0.0 1.0 0.0 40.0 'no' 'yes' 0.7715667227045492]\n",
      " [0.0 1.0 0.0 61.0 'no' 'yes' 0.7715667227045492]\n",
      " [1.0 0.0 0.0 82.0 'yes' 'yes' -0.8083171576263869]\n",
      " [0.0 1.0 0.0 49.0 'no' 'no' -0.1577767363136485]\n",
      " [0.0 1.0 0.0 32.0 'no' 'no' 0.6786323768027295]\n",
      " [1.0 0.0 0.0 59.0 'no' 'yes' -1.1800545412336658]\n",
      " [1.0 0.0 0.0 86.0 'no' 'yes' -0.5295141199209276]\n",
      " [0.0 0.0 1.0 12.0 'no' 'no' 1.4221071440172877]\n",
      " [1.0 0.0 0.0 61.0 'yes' 'yes' -0.5295141199209276]\n",
      " [0.0 0.0 1.0 19.0 'no' 'no' 0.6786323768027295]\n",
      " [0.0 0.0 1.0 15.0 'no' 'no' 1.1433041063118283]\n",
      " [0.0 0.0 1.0 26.0 'no' 'no' 0.03482632838142684]\n",
      " [0.0 1.0 0.0 30.0 'no' 'no' -1.8305949625464042]\n",
      " [1.0 0.0 0.0 80.0 'no' 'yes' 0.9574354145081887]\n",
      " [0.0 0.0 1.0 20.0 'no' 'no' 0.9574354145081887]\n",
      " [1.0 0.0 0.0 64.0 'yes' 'yes' -0.8083171576263869]]\n"
     ]
    }
   ],
   "source": [
    "print(X_train)"
   ]
  },
  {
   "cell_type": "code",
   "execution_count": 88,
   "id": "e7314c8f",
   "metadata": {},
   "outputs": [
    {
     "name": "stdout",
     "output_type": "stream",
     "text": [
      "[[0.0 0.0 1.0 25.0 'no' 'yes' 0.17205102992570073]\n",
      " [0.0 0.0 1.0 10.0 'no' 'no' 0.9513409890009328]\n",
      " [1.0 0.0 0.0 68.0 'yes' 'no' -1.1739952630224273]\n",
      " [0.0 1.0 0.0 13.0 'no' 'no' 0.7388073637985968]\n",
      " [1.0 0.0 0.0 59.0 'yes' 'no' -1.1031507212883154]\n",
      " [0.0 0.0 1.0 28.0 'no' 'no' 1.0930300724691568]\n",
      " [0.0 0.0 1.0 20.0 'no' 'no' 0.6679628220644848]\n",
      " [1.0 0.0 0.0 46.0 'yes' 'no' 0.5262737385962607]\n",
      " [1.0 0.0 0.0 53.0 'yes' 'no' -2.0241297638317715]\n",
      " [0.0 0.0 1.0 16.0 'no' 'no' 0.5971182803303727]\n",
      " [1.0 0.0 0.0 38.0 'no' 'no' -0.6072389291495313]\n",
      " [0.0 0.0 1.0 19.0 'no' 'no' 0.5971182803303727]\n",
      " [1.0 0.0 0.0 94.0 'yes' 'yes' -1.3865288882247633]\n",
      " [0.0 1.0 0.0 12.0 'no' 'no' 0.9513409890009328]]\n"
     ]
    }
   ],
   "source": [
    "print(X_test)"
   ]
  },
  {
   "cell_type": "code",
   "execution_count": 94,
   "id": "3018a7d4",
   "metadata": {},
   "outputs": [],
   "source": [
    "from sklearn.preprocessing import StandardScaler\n",
    "sa=StandardScaler()\n",
    "X_train[:,0:1]=sa.fit_transform(X_train[:,0:1])\n",
    "X_test[:,0:1]=sa.fit_transform(X_test[:,0:1])"
   ]
  },
  {
   "cell_type": "code",
   "execution_count": 95,
   "id": "de5c49a4",
   "metadata": {},
   "outputs": [
    {
     "name": "stdout",
     "output_type": "stream",
     "text": [
      "[[0.9649012813540153 0.0 0.0 86.0 'yes' 'yes' -0.9941858494300263]\n",
      " [-1.0363754503432017 1.0 0.0 35.0 'no' 'yes' 0.9574354145081887]\n",
      " [0.9649012813540153 0.0 0.0 75.0 'no' 'yes' -0.9012515035282066]\n",
      " [0.9649012813540153 0.0 0.0 42.0 'no' 'no' 0.9574354145081887]\n",
      " [0.9649012813540153 0.0 0.0 74.0 'yes' 'yes' -0.6224484658227474]\n",
      " [0.9649012813540153 0.0 0.0 62.0 'yes' 'yes' -1.2729888871354855]\n",
      " [-1.0363754503432017 1.0 0.0 24.0 'no' 'no' 0.9574354145081887]\n",
      " [-1.0363754503432017 1.0 0.0 48.0 'no' 'yes' 1.0503697604100086]\n",
      " [0.9649012813540153 0.0 0.0 58.0 'no' 'no' -1.0871201953318461]\n",
      " [-1.0363754503432017 1.0 0.0 45.130434782608695 'yes' 'no'\n",
      "  0.7715667227045492]\n",
      " [-1.0363754503432017 1.0 0.0 15.0 'no' 'no' 0.9574354145081887]\n",
      " [-1.0363754503432017 0.0 1.0 70.0 'no' 'yes' 0.5856980309009097]\n",
      " [0.9649012813540153 0.0 0.0 52.0 'yes' 'yes' -0.1577767363136485]\n",
      " [0.9649012813540153 0.0 0.0 60.0 'yes' 'yes' -1.2729888871354855]\n",
      " [0.9649012813540153 0.0 0.0 54.0 'yes' 'yes' -1.0871201953318461]\n",
      " [-1.0363754503432017 0.0 1.0 29.0 'no' 'no' 1.0503697604100086]\n",
      " [0.9649012813540153 0.0 0.0 78.0 'yes' 'yes' -0.9941858494300263]\n",
      " [0.9649012813540153 0.0 0.0 36.0 'yes' 'no' 0.7715667227045492]\n",
      " [-1.0363754503432017 1.0 0.0 30.0 'yes' 'no' 0.3998293390972701]\n",
      " [0.9649012813540153 0.0 0.0 50.0 'yes' 'yes' -0.4365797740191078]\n",
      " [-1.0363754503432017 0.0 1.0 18.0 'no' 'no' 1.0503697604100086]\n",
      " [0.9649012813540153 0.0 0.0 69.0 'no' 'yes' -2.667004075662782]\n",
      " [-1.0363754503432017 0.0 1.0 10.0 'no' 'no' 1.4221071440172877]\n",
      " [0.9649012813540153 0.0 0.0 26.0 'no' 'no' 1.1433041063118283]\n",
      " [-1.0363754503432017 1.0 0.0 18.0 'no' 'no' -1.4588575789391252]\n",
      " [0.9649012813540153 0.0 0.0 62.0 'yes' 'yes' -1.1800545412336658]\n",
      " [-1.0363754503432017 1.0 0.0 13.0 'no' 'no' 1.0503697604100086]\n",
      " [0.9649012813540153 0.0 0.0 40.0 'no' 'no' 0.9574354145081887]\n",
      " [0.9649012813540153 0.0 0.0 84.0 'yes' 'yes' -0.6224484658227474]\n",
      " [0.9649012813540153 0.0 0.0 76.0 'yes' 'yes' -0.1577767363136485]\n",
      " [0.9649012813540153 0.0 0.0 81.0 'yes' 'yes' -0.6224484658227474]\n",
      " [-1.0363754503432017 1.0 0.0 25.0 'no' 'no' 1.0503697604100086]\n",
      " [-1.0363754503432017 1.0 0.0 32.0 'no' 'yes' 0.21396064729363057]\n",
      " [0.9649012813540153 0.0 0.0 56.0 'yes' 'yes' -0.4365797740191078]\n",
      " [-1.0363754503432017 1.0 0.0 35.0 'no' 'no' 0.6786323768027295]\n",
      " [0.9649012813540153 0.0 0.0 63.0 'yes' 'yes' -1.4588575789391252]\n",
      " [-1.0363754503432017 0.0 1.0 28.0 'no' 'no' 0.6786323768027295]\n",
      " [0.9649012813540153 0.0 0.0 56.0 'yes' 'no' -0.5295141199209276]\n",
      " [0.9649012813540153 0.0 0.0 90.0 'yes' 'yes' -1.3659232330373055]\n",
      " [-1.0363754503432017 0.0 1.0 17.0 'no' 'no' 1.0503697604100086]\n",
      " [-1.0363754503432017 1.0 0.0 40.0 'no' 'yes' 0.7715667227045492]\n",
      " [-1.0363754503432017 1.0 0.0 61.0 'no' 'yes' 0.7715667227045492]\n",
      " [0.9649012813540153 0.0 0.0 82.0 'yes' 'yes' -0.8083171576263869]\n",
      " [-1.0363754503432017 1.0 0.0 49.0 'no' 'no' -0.1577767363136485]\n",
      " [-1.0363754503432017 1.0 0.0 32.0 'no' 'no' 0.6786323768027295]\n",
      " [0.9649012813540153 0.0 0.0 59.0 'no' 'yes' -1.1800545412336658]\n",
      " [0.9649012813540153 0.0 0.0 86.0 'no' 'yes' -0.5295141199209276]\n",
      " [-1.0363754503432017 0.0 1.0 12.0 'no' 'no' 1.4221071440172877]\n",
      " [0.9649012813540153 0.0 0.0 61.0 'yes' 'yes' -0.5295141199209276]\n",
      " [-1.0363754503432017 0.0 1.0 19.0 'no' 'no' 0.6786323768027295]\n",
      " [-1.0363754503432017 0.0 1.0 15.0 'no' 'no' 1.1433041063118283]\n",
      " [-1.0363754503432017 0.0 1.0 26.0 'no' 'no' 0.03482632838142684]\n",
      " [-1.0363754503432017 1.0 0.0 30.0 'no' 'no' -1.8305949625464042]\n",
      " [0.9649012813540153 0.0 0.0 80.0 'no' 'yes' 0.9574354145081887]\n",
      " [-1.0363754503432017 0.0 1.0 20.0 'no' 'no' 0.9574354145081887]\n",
      " [0.9649012813540153 0.0 0.0 64.0 'yes' 'yes' -0.8083171576263869]]\n"
     ]
    }
   ],
   "source": [
    "print(X_train)"
   ]
  },
  {
   "cell_type": "code",
   "execution_count": 96,
   "id": "40182d16",
   "metadata": {},
   "outputs": [
    {
     "name": "stdout",
     "output_type": "stream",
     "text": [
      "[[-0.8660254037844387 0.0 1.0 25.0 'no' 'yes' 0.17205102992570073]\n",
      " [-0.8660254037844387 0.0 1.0 10.0 'no' 'no' 0.9513409890009328]\n",
      " [1.1547005383792517 0.0 0.0 68.0 'yes' 'no' -1.1739952630224273]\n",
      " [-0.8660254037844387 1.0 0.0 13.0 'no' 'no' 0.7388073637985968]\n",
      " [1.1547005383792517 0.0 0.0 59.0 'yes' 'no' -1.1031507212883154]\n",
      " [-0.8660254037844387 0.0 1.0 28.0 'no' 'no' 1.0930300724691568]\n",
      " [-0.8660254037844387 0.0 1.0 20.0 'no' 'no' 0.6679628220644848]\n",
      " [1.1547005383792517 0.0 0.0 46.0 'yes' 'no' 0.5262737385962607]\n",
      " [1.1547005383792517 0.0 0.0 53.0 'yes' 'no' -2.0241297638317715]\n",
      " [-0.8660254037844387 0.0 1.0 16.0 'no' 'no' 0.5971182803303727]\n",
      " [1.1547005383792517 0.0 0.0 38.0 'no' 'no' -0.6072389291495313]\n",
      " [-0.8660254037844387 0.0 1.0 19.0 'no' 'no' 0.5971182803303727]\n",
      " [1.1547005383792517 0.0 0.0 94.0 'yes' 'yes' -1.3865288882247633]\n",
      " [-0.8660254037844387 1.0 0.0 12.0 'no' 'no' 0.9513409890009328]]\n"
     ]
    }
   ],
   "source": [
    "print(X_test)"
   ]
  },
  {
   "cell_type": "code",
   "execution_count": null,
   "id": "5dac0e1f",
   "metadata": {},
   "outputs": [],
   "source": []
  }
 ],
 "metadata": {
  "kernelspec": {
   "display_name": "Python 3 (ipykernel)",
   "language": "python",
   "name": "python3"
  },
  "language_info": {
   "codemirror_mode": {
    "name": "ipython",
    "version": 3
   },
   "file_extension": ".py",
   "mimetype": "text/x-python",
   "name": "python",
   "nbconvert_exporter": "python",
   "pygments_lexer": "ipython3",
   "version": "3.10.9"
  }
 },
 "nbformat": 4,
 "nbformat_minor": 5
}
